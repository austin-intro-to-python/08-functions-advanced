{
 "cells": [
  {
   "cell_type": "markdown",
   "metadata": {},
   "source": [
    "# 1. Functions with Conditionals"
   ]
  },
  {
   "cell_type": "code",
   "execution_count": 1,
   "metadata": {},
   "outputs": [
    {
     "name": "stdout",
     "output_type": "stream",
     "text": [
      "Welcome to the bank!\n"
     ]
    }
   ],
   "source": [
    "# Write a function that receives the name of any location. Use if, else, and elif.\n",
    "# If that location is a bank, a barber shop, or an auto shop, the function prints a welcome message.\n",
    "# If not, then it prints a question.\n",
    "\n",
    "loc = 'Bank'\n",
    "\n",
    "if loc == 'Auto Shop':\n",
    "    print('Welcome to the Auto Shop!')\n",
    "elif loc == 'Bank':\n",
    "    print('Welcome to the bank!')\n",
    "else:\n",
    "    print('Where are you?')"
   ]
  },
  {
   "cell_type": "code",
   "execution_count": 4,
   "metadata": {},
   "outputs": [
    {
     "name": "stdout",
     "output_type": "stream",
     "text": [
      "Where are you?\n"
     ]
    }
   ],
   "source": [
    "def myfunc(loc):\n",
    "    if loc == 'Auto Shop':\n",
    "        print('Welcome to the Auto Shop!')\n",
    "    elif loc == 'Bank':\n",
    "        print('Welcome to the bank!')\n",
    "    else:\n",
    "        print('Where are you?')\n",
    "        \n",
    "myfunc('Grocery')"
   ]
  },
  {
   "cell_type": "code",
   "execution_count": 6,
   "metadata": {},
   "outputs": [
    {
     "name": "stdout",
     "output_type": "stream",
     "text": [
      "Where are you?\n"
     ]
    }
   ],
   "source": [
    "# Let's rewrite this same function with fewer lines of code to be more efficient.\n",
    "# Provide a list of 4 acceptable locations, and use string formatting to efficiently display the welcome message.\n",
    "\n",
    "def myfunc(loc):\n",
    "    acceptable=['Auto Shop','Bank','Barber Shop']\n",
    "    if loc in acceptable:\n",
    "#         print('Welcome to the {}'.format(loc))\n",
    "        print(f'Welcome to the {loc}')\n",
    "    else:\n",
    "        print('Where are you?')\n",
    "        \n",
    "myfunc('Grocery')"
   ]
  },
  {
   "cell_type": "code",
   "execution_count": 10,
   "metadata": {},
   "outputs": [
    {
     "name": "stdout",
     "output_type": "stream",
     "text": [
      "Welcome, friend Harry\n"
     ]
    }
   ],
   "source": [
    "# Write a function that accepts a person. If that person is in a list of friends, print a welcome statement.\n",
    "# If not, ask for the name.\n",
    "\n",
    "def myfunc(person):\n",
    "    acceptable=['Omar', 'Harry', 'Genevieve', 'Ginelle']\n",
    "    if person in acceptable:\n",
    "#         print('Welcome to the {}'.format(loc))\n",
    "        print(f'Welcome, friend {person}')\n",
    "    else:\n",
    "        print('Who are you?')\n",
    "        \n",
    "myfunc('Harry')"
   ]
  },
  {
   "cell_type": "code",
   "execution_count": 12,
   "metadata": {},
   "outputs": [
    {
     "name": "stdout",
     "output_type": "stream",
     "text": [
      "Please provide a name with an uppercase letter\n"
     ]
    }
   ],
   "source": [
    "# Rewrite this same function with error handling.\n",
    "# The expected input must be ONLY ONE string that starts with a capital letter.\n",
    "\n",
    "def myfunc(person):\n",
    "    acceptable=['Omar', 'Harry', 'Genevieve', 'Ginelle']\n",
    "    if type(person)==str and person[0].isupper():\n",
    "        if person in acceptable:\n",
    "    #         print('Welcome to the {}'.format(loc))\n",
    "            print(f'Welcome, friend {person}')\n",
    "        else:\n",
    "            print('Who are you?')\n",
    "    else:\n",
    "        print('Please provide a name with an uppercase letter')\n",
    "        \n",
    "myfunc('harry')"
   ]
  },
  {
   "cell_type": "code",
   "execution_count": 16,
   "metadata": {},
   "outputs": [
    {
     "name": "stdout",
     "output_type": "stream",
     "text": [
      "Please provide a name with an uppercase letter\n"
     ]
    }
   ],
   "source": [
    "def myfunc(*args):\n",
    "    acceptable=['Omar', 'Harry', 'Genevieve', 'Ginelle']\n",
    "    if len(args)==1:\n",
    "        person=args[0]\n",
    "        if type(person)==str and person[0].isupper():\n",
    "            if person in acceptable:\n",
    "        #         print('Welcome to the {}'.format(loc))\n",
    "                print(f'Welcome, friend {person}')\n",
    "            else:\n",
    "                print('Who are you?')\n",
    "        else:\n",
    "            print('Please provide a name with an uppercase letter')\n",
    "    else:\n",
    "        print('Please provide only one item!')\n",
    "\n",
    "myfunc('harry')"
   ]
  },
  {
   "cell_type": "code",
   "execution_count": null,
   "metadata": {},
   "outputs": [],
   "source": []
  }
 ],
 "metadata": {
  "kernelspec": {
   "display_name": "Python 3",
   "language": "python",
   "name": "python3"
  },
  "language_info": {
   "codemirror_mode": {
    "name": "ipython",
    "version": 3
   },
   "file_extension": ".py",
   "mimetype": "text/x-python",
   "name": "python",
   "nbconvert_exporter": "python",
   "pygments_lexer": "ipython3",
   "version": "3.6.7"
  }
 },
 "nbformat": 4,
 "nbformat_minor": 2
}
