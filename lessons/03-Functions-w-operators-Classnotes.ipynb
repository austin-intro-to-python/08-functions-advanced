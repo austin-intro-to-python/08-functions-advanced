{
 "cells": [
  {
   "cell_type": "markdown",
   "metadata": {},
   "source": [
    "# 3. Functions with operators"
   ]
  },
  {
   "cell_type": "code",
   "execution_count": 1,
   "metadata": {},
   "outputs": [
    {
     "name": "stdout",
     "output_type": "stream",
     "text": [
      "[5, 6, 7, 8, 9, 10, 11, 12, 13, 14, 15, 16, 17]\n"
     ]
    }
   ],
   "source": [
    "# Write a function that receives any two numbers and prints out the range of numbers between them.\n",
    "\n",
    "def myfunc(a,b):\n",
    "    print(list(range(a,b)))\n",
    "myfunc(5,18)"
   ]
  },
  {
   "cell_type": "code",
   "execution_count": 2,
   "metadata": {},
   "outputs": [
    {
     "name": "stdout",
     "output_type": "stream",
     "text": [
      "[5, 7, 9, 11, 13, 15, 17]\n"
     ]
    }
   ],
   "source": [
    "# Write the same function, but include error handling and a step size of two.\n",
    "\n",
    "def myfunc(a,b):\n",
    "    if type(a)==int and type(b)==int:\n",
    "        print(list(range(a,b,2)))\n",
    "    else:\n",
    "        print('integer please')\n",
    "myfunc(5,18)\n"
   ]
  },
  {
   "cell_type": "code",
   "execution_count": 3,
   "metadata": {
    "collapsed": true
   },
   "outputs": [
    {
     "name": "stdout",
     "output_type": "stream",
     "text": [
      "At index 0 the letter is t\n",
      "At index 1 the letter is h\n",
      "At index 2 the letter is i\n",
      "At index 3 the letter is s\n",
      "At index 4 the letter is  \n",
      "At index 5 the letter is i\n",
      "At index 6 the letter is s\n",
      "At index 7 the letter is  \n",
      "At index 8 the letter is a\n",
      "At index 9 the letter is  \n",
      "At index 10 the letter is s\n",
      "At index 11 the letter is t\n",
      "At index 12 the letter is r\n",
      "At index 13 the letter is i\n",
      "At index 14 the letter is n\n",
      "At index 15 the letter is g\n",
      "At index 16 the letter is !\n"
     ]
    }
   ],
   "source": [
    "# Write a function that receives a string and uses a for loop to print \n",
    "# the index of every letter in that string.\n",
    "\n",
    "def myfunc(string):\n",
    "    index_count = 0\n",
    "    for letter in string:\n",
    "        print('At index {} the letter is {}'.format(index_count, letter))\n",
    "        index_count +=1\n",
    "        \n",
    "myfunc('this is a string!')"
   ]
  },
  {
   "cell_type": "code",
   "execution_count": 5,
   "metadata": {
    "collapsed": true
   },
   "outputs": [
    {
     "data": {
      "text/plain": [
       "[(0, 't'),\n",
       " (1, 'h'),\n",
       " (2, 'i'),\n",
       " (3, 's'),\n",
       " (4, ' '),\n",
       " (5, 'i'),\n",
       " (6, 's'),\n",
       " (7, ' '),\n",
       " (8, 'a'),\n",
       " (9, ' '),\n",
       " (10, 's'),\n",
       " (11, 't'),\n",
       " (12, 'r'),\n",
       " (13, 'i'),\n",
       " (14, 'n'),\n",
       " (15, 'g'),\n",
       " (16, '!')]"
      ]
     },
     "execution_count": 5,
     "metadata": {},
     "output_type": "execute_result"
    }
   ],
   "source": [
    "list(enumerate('this is a string!'))"
   ]
  },
  {
   "cell_type": "code",
   "execution_count": 7,
   "metadata": {
    "collapsed": true
   },
   "outputs": [
    {
     "name": "stdout",
     "output_type": "stream",
     "text": [
      "At index 0 the letter is t\n",
      "At index 1 the letter is h\n",
      "At index 2 the letter is i\n",
      "At index 3 the letter is s\n",
      "At index 4 the letter is  \n",
      "At index 5 the letter is i\n",
      "At index 6 the letter is s\n",
      "At index 7 the letter is  \n",
      "At index 8 the letter is a\n",
      "At index 9 the letter is  \n",
      "At index 10 the letter is s\n",
      "At index 11 the letter is t\n",
      "At index 12 the letter is r\n",
      "At index 13 the letter is i\n",
      "At index 14 the letter is n\n",
      "At index 15 the letter is g\n",
      "At index 16 the letter is !\n"
     ]
    }
   ],
   "source": [
    "# Rewrite this same function using 'enumerate'.\n",
    "\n",
    "def myfunc(string):\n",
    "    for i, letter in enumerate(string):\n",
    "        print('At index {} the letter is {}'.format(i, letter))\n",
    "        \n",
    "myfunc('this is a string!')"
   ]
  },
  {
   "cell_type": "code",
   "execution_count": 9,
   "metadata": {},
   "outputs": [
    {
     "data": {
      "text/plain": [
       "[(0, 't'), (1, 'h'), (2, 'i'), (3, 's')]"
      ]
     },
     "execution_count": 9,
     "metadata": {},
     "output_type": "execute_result"
    }
   ],
   "source": [
    "# Write a function that receives a string and returns \n",
    "# a list of tuples showing each string item with its index.\n",
    "\n",
    "def myfunc(string):\n",
    "    return list(enumerate(string))\n",
    "      \n",
    "myfunc('this')"
   ]
  },
  {
   "cell_type": "code",
   "execution_count": 13,
   "metadata": {},
   "outputs": [
    {
     "data": {
      "text/plain": [
       "[('blue', 3), ('green', 5), ('yellow', 6), ('raccoon', 7)]"
      ]
     },
     "execution_count": 13,
     "metadata": {},
     "output_type": "execute_result"
    }
   ],
   "source": [
    "# Write a function that receives any two lists and joins them into a list of tuples.\n",
    "\n",
    "def myfunc(list1, list2):\n",
    "    return list(zip(list1, list2))\n",
    "\n",
    "list_a = ['blue','green','yellow','raccoon','panda', 'bear']\n",
    "list_b = [3,5,6,7]\n",
    "myfunc(list_a, list_b)"
   ]
  },
  {
   "cell_type": "code",
   "execution_count": null,
   "metadata": {},
   "outputs": [],
   "source": []
  },
  {
   "cell_type": "code",
   "execution_count": null,
   "metadata": {},
   "outputs": [],
   "source": []
  },
  {
   "cell_type": "code",
   "execution_count": 15,
   "metadata": {},
   "outputs": [
    {
     "name": "stdout",
     "output_type": "stream",
     "text": [
      "The lowest value is 3 and the highest value is 89\n"
     ]
    }
   ],
   "source": [
    "# Write a function that receives any list and prints a sentence \n",
    "# with the minimum and maximum value of that list.\n",
    "\n",
    "def myfunc(list1):\n",
    "    b = max(list1)\n",
    "    a = min(list1)\n",
    "    print('The lowest value is {} and the highest value is {}'.format(a,b))\n",
    "myfunc([45,67,12,34,89,32,3])"
   ]
  },
  {
   "cell_type": "code",
   "execution_count": null,
   "metadata": {},
   "outputs": [],
   "source": []
  }
 ],
 "metadata": {
  "kernelspec": {
   "display_name": "Python 3",
   "language": "python",
   "name": "python3"
  },
  "language_info": {
   "codemirror_mode": {
    "name": "ipython",
    "version": 3
   },
   "file_extension": ".py",
   "mimetype": "text/x-python",
   "name": "python",
   "nbconvert_exporter": "python",
   "pygments_lexer": "ipython3",
   "version": "3.6.7"
  }
 },
 "nbformat": 4,
 "nbformat_minor": 2
}
