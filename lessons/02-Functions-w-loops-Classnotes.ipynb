{
 "cells": [
  {
   "cell_type": "markdown",
   "metadata": {},
   "source": [
    "# 2. Functions with loops"
   ]
  },
  {
   "cell_type": "markdown",
   "metadata": {},
   "source": [
    "## for loops"
   ]
  },
  {
   "cell_type": "code",
   "execution_count": 1,
   "metadata": {},
   "outputs": [
    {
     "name": "stdout",
     "output_type": "stream",
     "text": [
      "1\n",
      "2\n",
      "5\n",
      "blue\n",
      "green\n"
     ]
    }
   ],
   "source": [
    "# Write a function that receives a list and prints all its elements.\n",
    "# Include error handling to confirm that the expected input is indeed a list.\n",
    "\n",
    "def myfunc(list1):\n",
    "    if type(list1)==list:\n",
    "        for num in list1:\n",
    "            print(num)\n",
    "    else:\n",
    "        print('please give me a list')\n",
    "myfunc([1,2,5,\"blue\",'green'])"
   ]
  },
  {
   "cell_type": "code",
   "execution_count": 7,
   "metadata": {},
   "outputs": [
    {
     "name": "stdout",
     "output_type": "stream",
     "text": [
      "2\n",
      "2\n",
      "4\n",
      "6\n",
      "8\n"
     ]
    }
   ],
   "source": [
    "# Write a function that receives a list of integers and prints only the even numbers from that list.\n",
    "def myfunc(list1):\n",
    "    for num in list1:\n",
    "        if num%2==0:\n",
    "            print(num)\n",
    "myfunc([1,2,5,7,9,2,4,6,5,8])"
   ]
  },
  {
   "cell_type": "code",
   "execution_count": null,
   "metadata": {},
   "outputs": [],
   "source": [
    "# Write a function that sums a list of numbers.\n",
    "\n",
    "\n",
    "def myfunc(list1):\n",
    "    list_sum=0\n",
    "    for num in list1:\n",
    "        if type(num)==int:\n",
    "            list_sum = list_sum + num\n",
    "        else:\n",
    "            pass\n",
    "    print(list_sum)\n",
    "myfunc([1,'yellow',2,5,7,3,'blue'])"
   ]
  },
  {
   "cell_type": "code",
   "execution_count": 8,
   "metadata": {},
   "outputs": [
    {
     "data": {
      "text/plain": [
       "49"
      ]
     },
     "execution_count": 8,
     "metadata": {},
     "output_type": "execute_result"
    }
   ],
   "source": [
    "# You can also just use the built-in function 'sum' to do this.\n",
    "sum([1,2,5,7,9,2,4,6,5,8])"
   ]
  },
  {
   "cell_type": "code",
   "execution_count": 11,
   "metadata": {},
   "outputs": [
    {
     "name": "stdout",
     "output_type": "stream",
     "text": [
      "3 4\n"
     ]
    }
   ],
   "source": [
    "# Write a function that receives 6 items, converts them into 3 tuples,\n",
    "# and then prints the first of each pair.\n",
    "mylist=[3,4,6,7,1,2]\n",
    "mytuples=[(3,4), (6,7), (1,2)]\n",
    "print(3,4)"
   ]
  },
  {
   "cell_type": "code",
   "execution_count": 14,
   "metadata": {},
   "outputs": [
    {
     "name": "stdout",
     "output_type": "stream",
     "text": [
      "3\n",
      "6\n",
      "1\n"
     ]
    }
   ],
   "source": [
    "def myfunc(a,b,c,d,e,f):\n",
    "    list2=[(a,b),(c,d),(e,f)]\n",
    "    for (t1,t2) in list2:\n",
    "        print(t1)\n",
    "myfunc(3,4,6,7,1,2)"
   ]
  },
  {
   "cell_type": "code",
   "execution_count": 19,
   "metadata": {},
   "outputs": [
    {
     "name": "stdout",
     "output_type": "stream",
     "text": [
      "blue\n",
      "red\n",
      "monkey\n"
     ]
    },
    {
     "data": {
      "text/plain": [
       "[(0, 'blue'),\n",
       " (1, 'green'),\n",
       " (2, 'red'),\n",
       " (3, 'yellow'),\n",
       " (4, 'monkey'),\n",
       " (5, 'whale')]"
      ]
     },
     "execution_count": 19,
     "metadata": {},
     "output_type": "execute_result"
    }
   ],
   "source": [
    "# Use args to rewrite with any EVEN number of inputs. \n",
    "def myfunc(*args):\n",
    "    if len(args)%2==0:\n",
    "        tuples_list = list(enumerate(args))\n",
    "        for (t1,t2) in tuples_list:\n",
    "            if t1%2==0:\n",
    "                print(t2)\n",
    "        \n",
    "        return tuples_list\n",
    "    \n",
    "    else:\n",
    "        print('Please provide an even number of inputs!')\n",
    "myfunc('blue','green','red','yellow','monkey','whale')"
   ]
  },
  {
   "cell_type": "code",
   "execution_count": 15,
   "metadata": {},
   "outputs": [
    {
     "data": {
      "text/plain": [
       "[(0, 'blue'), (1, 'green'), (2, 'red'), (3, 'yellow')]"
      ]
     },
     "execution_count": 15,
     "metadata": {},
     "output_type": "execute_result"
    }
   ],
   "source": [
    "# enumerate\n",
    "mylist=['blue','green','red','yellow']\n",
    "list(enumerate(mylist))"
   ]
  },
  {
   "cell_type": "markdown",
   "metadata": {},
   "source": [
    "## While loops"
   ]
  },
  {
   "cell_type": "code",
   "execution_count": 20,
   "metadata": {},
   "outputs": [
    {
     "name": "stdout",
     "output_type": "stream",
     "text": [
      "10 is still less than 30, adding 1 to 10!\n",
      "11 is still less than 30, adding 1 to 11!\n",
      "12 is still less than 30, adding 1 to 12!\n",
      "13 is still less than 30, adding 1 to 13!\n",
      "14 is still less than 30, adding 1 to 14!\n",
      "15 is still less than 30, adding 1 to 15!\n",
      "16 is still less than 30, adding 1 to 16!\n",
      "17 is still less than 30, adding 1 to 17!\n",
      "18 is still less than 30, adding 1 to 18!\n",
      "19 is still less than 30, adding 1 to 19!\n",
      "20 is still less than 30, adding 1 to 20!\n",
      "21 is still less than 30, adding 1 to 21!\n",
      "22 is still less than 30, adding 1 to 22!\n",
      "23 is still less than 30, adding 1 to 23!\n",
      "24 is still less than 30, adding 1 to 24!\n",
      "25 is still less than 30, adding 1 to 25!\n",
      "26 is still less than 30, adding 1 to 26!\n",
      "27 is still less than 30, adding 1 to 27!\n",
      "28 is still less than 30, adding 1 to 28!\n",
      "29 is still less than 30, adding 1 to 29!\n"
     ]
    }
   ],
   "source": [
    "# Write a function that receives any two number A and B.\n",
    "# For every number between the interval of A and B, print a statement.\n",
    "\n",
    "def myfunc(a,b):\n",
    "    while a < b:\n",
    "        print(f'{a} is still less than {b}, adding 1 to {a}!')\n",
    "        a+=1\n",
    "myfunc(10,30)"
   ]
  },
  {
   "cell_type": "code",
   "execution_count": null,
   "metadata": {},
   "outputs": [],
   "source": []
  }
 ],
 "metadata": {
  "kernelspec": {
   "display_name": "Python 3",
   "language": "python",
   "name": "python3"
  },
  "language_info": {
   "codemirror_mode": {
    "name": "ipython",
    "version": 3
   },
   "file_extension": ".py",
   "mimetype": "text/x-python",
   "name": "python",
   "nbconvert_exporter": "python",
   "pygments_lexer": "ipython3",
   "version": "3.6.7"
  }
 },
 "nbformat": 4,
 "nbformat_minor": 2
}
