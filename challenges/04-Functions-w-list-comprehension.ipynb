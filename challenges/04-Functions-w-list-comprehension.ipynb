{
 "cells": [
  {
   "cell_type": "markdown",
   "metadata": {},
   "source": [
    "# 4. Functions with List Comprehension"
   ]
  },
  {
   "cell_type": "code",
   "execution_count": 1,
   "metadata": {},
   "outputs": [
    {
     "data": {
      "text/plain": [
       "[0, 2, 4, 6, 8, 10, 12, 14, 16, 18]"
      ]
     },
     "execution_count": 1,
     "metadata": {},
     "output_type": "execute_result"
    }
   ],
   "source": [
    "# building a list\n",
    "\n",
    "mylist = []\n",
    "for item in range(0,10):\n",
    "    mylist.append(item*2)\n",
    "mylist"
   ]
  },
  {
   "cell_type": "code",
   "execution_count": 2,
   "metadata": {},
   "outputs": [
    {
     "data": {
      "text/plain": [
       "[0, 2, 4, 6, 8, 10, 12, 14, 16, 18]"
      ]
     },
     "execution_count": 2,
     "metadata": {},
     "output_type": "execute_result"
    }
   ],
   "source": [
    "[item*2 for item in range(0,10)]"
   ]
  },
  {
   "cell_type": "code",
   "execution_count": 6,
   "metadata": {},
   "outputs": [
    {
     "name": "stdout",
     "output_type": "stream",
     "text": [
      "['a', 'b', 'c', 'd', 'e']\n"
     ]
    }
   ],
   "source": [
    "# Write a function that takes a string and prints every letter in that string. use a for loop.\n",
    "mystring='abcde'\n",
    "\n",
    "def myfunc(anystring):\n",
    "    mylist=[]\n",
    "    for x in anystring:\n",
    "        mylist.append(x)\n",
    "    print(mylist)\n",
    "myfunc(mystring)"
   ]
  },
  {
   "cell_type": "code",
   "execution_count": 7,
   "metadata": {},
   "outputs": [
    {
     "name": "stdout",
     "output_type": "stream",
     "text": [
      "['a', 'b', 'c', 'd', 'e']\n"
     ]
    }
   ],
   "source": [
    "# Rewrite this same function using list comprehension.\n",
    "\n",
    "def myfunc(anystring):\n",
    "    \n",
    "    mylist = [x for x in anystring]\n",
    "        \n",
    "    print(mylist)\n",
    "myfunc(mystring)"
   ]
  },
  {
   "cell_type": "markdown",
   "metadata": {},
   "source": [
    "### Exercise 2"
   ]
  },
  {
   "cell_type": "code",
   "execution_count": 12,
   "metadata": {},
   "outputs": [
    {
     "data": {
      "text/plain": [
       "[8, 9, 10, 11, 12, 7, 13]"
      ]
     },
     "execution_count": 12,
     "metadata": {},
     "output_type": "execute_result"
    }
   ],
   "source": [
    "# Write a function that will receive any list of numbers, \n",
    "# and add 5 to each element of that list. Use a for loop.\n",
    "\n",
    "def myfunc(numlist):\n",
    "    if type(numlist)==list:\n",
    "        new_nums=[]\n",
    "        for n in numlist:\n",
    "            if type(n)==int:\n",
    "                new_nums.append(n+5)\n",
    "            else:\n",
    "                pass\n",
    "        return new_nums\n",
    "        \n",
    "        \n",
    "    else:\n",
    "        print('please provide a list!')\n",
    "myfunc([3,4,5,6,'bear',7,2,8])"
   ]
  },
  {
   "cell_type": "code",
   "execution_count": 15,
   "metadata": {},
   "outputs": [
    {
     "data": {
      "text/plain": [
       "[10, 9, 12, 7, 9]"
      ]
     },
     "execution_count": 15,
     "metadata": {},
     "output_type": "execute_result"
    }
   ],
   "source": [
    "# Rewrite this same function using list comprehension.\n",
    "def myfunc(numbers):\n",
    "    new_nums=[n+5 for n in numbers if type(n)==int]\n",
    "    return new_nums\n",
    "myfunc([5,4,7,'bear',2,4])"
   ]
  },
  {
   "cell_type": "markdown",
   "metadata": {},
   "source": [
    "## Exercise 3"
   ]
  },
  {
   "cell_type": "code",
   "execution_count": 19,
   "metadata": {},
   "outputs": [
    {
     "name": "stdout",
     "output_type": "stream",
     "text": [
      "3.6\n"
     ]
    }
   ],
   "source": [
    "# Import the numpy library.\n",
    "import numpy as np\n",
    "# Write a function that receives any list n and \"Binarize\" n so that \n",
    "# any value greater than or equal to the mean of n is 1, otherwise 0.\n",
    "\n",
    "def myfunc(n):\n",
    "    new_n=[]\n",
    "    mean_val = np.mean(n)\n",
    "    print(mean_val)\n",
    "myfunc([4,5,6,1,2])"
   ]
  },
  {
   "cell_type": "code",
   "execution_count": 20,
   "metadata": {},
   "outputs": [
    {
     "name": "stdout",
     "output_type": "stream",
     "text": [
      "3.6\n"
     ]
    },
    {
     "data": {
      "text/plain": [
       "[1, 1, 1, 0, 0]"
      ]
     },
     "execution_count": 20,
     "metadata": {},
     "output_type": "execute_result"
    }
   ],
   "source": [
    "\n",
    "def myfunc(n):\n",
    "    new_n=[]\n",
    "    mean_val = np.mean(n)\n",
    "    print(mean_val)\n",
    "    for num in n:\n",
    "        if num >= mean_val:\n",
    "            new_n.append(1)\n",
    "        else:\n",
    "            new_n.append(0)\n",
    "    return new_n\n",
    "myfunc([4,5,6,1,2])"
   ]
  },
  {
   "cell_type": "code",
   "execution_count": 22,
   "metadata": {},
   "outputs": [
    {
     "data": {
      "text/plain": [
       "[1, 1, 1, 0, 0]"
      ]
     },
     "execution_count": 22,
     "metadata": {},
     "output_type": "execute_result"
    }
   ],
   "source": [
    "# Rewrite this same function using list comprehension.\n",
    "\n",
    "def myfunc(n):\n",
    "    mean_val = np.mean(n)\n",
    "    return [1 if num >= mean_val else 0 for num in n]\n",
    "myfunc([4,5,6,1,2])"
   ]
  },
  {
   "cell_type": "code",
   "execution_count": null,
   "metadata": {},
   "outputs": [],
   "source": [
    "# Write a function to swap 1s to 0s and 0s to 1s. If the element is neither a 0 nor 1, make it None.\n",
    "# Use a for loop.\n",
    "\n"
   ]
  },
  {
   "cell_type": "code",
   "execution_count": null,
   "metadata": {},
   "outputs": [],
   "source": [
    "# Rewrite this same function using a list comprehension.\n"
   ]
  },
  {
   "cell_type": "code",
   "execution_count": null,
   "metadata": {},
   "outputs": [],
   "source": [
    "# Write a function that receives a list and gets the square and square root of all non-negative numbers in the list.\n",
    "# Use a for loop.\n",
    "\n",
    "\n"
   ]
  },
  {
   "cell_type": "code",
   "execution_count": null,
   "metadata": {},
   "outputs": [],
   "source": [
    "# Rewrite this same function using a list comprehension.\n",
    "\n"
   ]
  },
  {
   "cell_type": "code",
   "execution_count": 23,
   "metadata": {},
   "outputs": [],
   "source": [
    "# Write a function that receives a list of Celsius temperatures and converts to Fahrenheit.\n",
    "# The formula is (9/5)*temp + 32)\n",
    "\n",
    "def myfunc(celsius):\n",
    "    return [((9/5)*temp + 32) for temp in celsius]"
   ]
  },
  {
   "cell_type": "code",
   "execution_count": 25,
   "metadata": {},
   "outputs": [
    {
     "data": {
      "text/plain": [
       "[32.0, 50.0, 68.18, 94.1]"
      ]
     },
     "execution_count": 25,
     "metadata": {},
     "output_type": "execute_result"
    }
   ],
   "source": [
    "myfunc([0,10,20.1, 34.5])"
   ]
  },
  {
   "cell_type": "code",
   "execution_count": null,
   "metadata": {},
   "outputs": [],
   "source": []
  }
 ],
 "metadata": {
  "kernelspec": {
   "display_name": "Python 3",
   "language": "python",
   "name": "python3"
  },
  "language_info": {
   "codemirror_mode": {
    "name": "ipython",
    "version": 3
   },
   "file_extension": ".py",
   "mimetype": "text/x-python",
   "name": "python",
   "nbconvert_exporter": "python",
   "pygments_lexer": "ipython3",
   "version": "3.6.7"
  }
 },
 "nbformat": 4,
 "nbformat_minor": 2
}
