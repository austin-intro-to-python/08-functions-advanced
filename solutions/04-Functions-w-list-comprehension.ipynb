{
 "cells": [
  {
   "cell_type": "markdown",
   "metadata": {},
   "source": [
    "# 4. Functions with List Comprehension"
   ]
  },
  {
   "cell_type": "code",
   "execution_count": 17,
   "metadata": {},
   "outputs": [
    {
     "data": {
      "text/plain": [
       "['a', 'e', 'i', 'o', 'u']"
      ]
     },
     "execution_count": 17,
     "metadata": {},
     "output_type": "execute_result"
    }
   ],
   "source": [
    "# Write a function that takes a string and prints every letter in that string. use a for loop.\n",
    "def myfunc(string):\n",
    "    list1=[]\n",
    "    for x in string:\n",
    "        list1.append(x)\n",
    "    return(list1)\n",
    "myfunc('aeiou')"
   ]
  },
  {
   "cell_type": "code",
   "execution_count": 18,
   "metadata": {},
   "outputs": [
    {
     "data": {
      "text/plain": [
       "['a', 'e', 'i', 'o', 'u']"
      ]
     },
     "execution_count": 18,
     "metadata": {},
     "output_type": "execute_result"
    }
   ],
   "source": [
    "# Rewrite this same function using list comprehension.\n",
    "def myfunc(string):\n",
    "    return [x for x in string]\n",
    "myfunc('aeiou')"
   ]
  },
  {
   "cell_type": "code",
   "execution_count": 1,
   "metadata": {},
   "outputs": [
    {
     "data": {
      "text/plain": [
       "[14, 15, 16, 17, 18, 19, 20, 21, 22, 23]"
      ]
     },
     "execution_count": 1,
     "metadata": {},
     "output_type": "execute_result"
    }
   ],
   "source": [
    "# Write a function that will receive any list of numbers, and add 14 to each element of that list. Use a for loop.\n",
    "\n",
    "def myfunc(numbers):\n",
    "    new_nums = []\n",
    "    for n in numbers:\n",
    "        new_nums.append(n+14)\n",
    "    return new_nums\n",
    "\n",
    "myfunc([0,1,2,3,4,5,6,7,8,9])"
   ]
  },
  {
   "cell_type": "code",
   "execution_count": null,
   "metadata": {},
   "outputs": [],
   "source": [
    "# Rewrite this same function using list comprehension.\n",
    "\n",
    "def myfunc(numbers):\n",
    "    lc_nums=[n+14 for n in numbers]\n",
    "    return lc_nums\n",
    "myfunc([0,1,2,3,4,5,6,7,8,9])"
   ]
  },
  {
   "cell_type": "code",
   "execution_count": 2,
   "metadata": {},
   "outputs": [
    {
     "name": "stdout",
     "output_type": "stream",
     "text": [
      "4.5\n"
     ]
    },
    {
     "data": {
      "text/plain": [
       "[0, 0, 0, 0, 0, 1, 1, 1, 1, 1]"
      ]
     },
     "execution_count": 2,
     "metadata": {},
     "output_type": "execute_result"
    }
   ],
   "source": [
    "# Import the numpy library.\n",
    "import numpy as np\n",
    "# Write a function that receives any list n \"Binarize\" n so that \n",
    "# any value greater than or equal to the mean of n is 1, otherwise 0.\n",
    "\n",
    "def myfunc(n):\n",
    "    new_n=[]\n",
    "    mean_val = np.mean(n)\n",
    "    print(mean_val)\n",
    "    for num in n:\n",
    "        if num >= mean_val:\n",
    "            new_n.append(1)\n",
    "        else:\n",
    "            new_n.append(0)\n",
    "    return new_n\n",
    "myfunc([0,1,2,3,4,5,6,7,8,9])"
   ]
  },
  {
   "cell_type": "code",
   "execution_count": 5,
   "metadata": {},
   "outputs": [
    {
     "data": {
      "text/plain": [
       "[0, 0, 0, 0, 0, 1, 1, 1, 1, 1]"
      ]
     },
     "execution_count": 5,
     "metadata": {},
     "output_type": "execute_result"
    }
   ],
   "source": [
    "# Rewrite this same function using list comprehension.\n",
    "\n",
    "def myfunc(n):\n",
    "    mean_val = np.mean(n)\n",
    "    return [1 if num>=mean_val else 0 for num in n]\n",
    "myfunc([0,1,2,3,4,5,6,7,8,9])"
   ]
  },
  {
   "cell_type": "code",
   "execution_count": 6,
   "metadata": {},
   "outputs": [
    {
     "data": {
      "text/plain": [
       "[1, 0, 1, 0, None, None, None, None, 0, 1]"
      ]
     },
     "execution_count": 6,
     "metadata": {},
     "output_type": "execute_result"
    }
   ],
   "source": [
    "# Write a function to swap 1s to 0s and 0s to 1s. If the element is neither a 0 nor 1, make it None.\n",
    "# Use a for loop.\n",
    "\n",
    "def myfunc(n):\n",
    "    something = []\n",
    "    for num in n:\n",
    "        if num == 1:\n",
    "            something.append(0)\n",
    "        elif num == 0:\n",
    "            something.append(1)\n",
    "        else:\n",
    "            something.append(None)\n",
    "    return something\n",
    "\n",
    "myfunc([0, 1, 0, 1, 2, 3, 5, 2, 1, 0])"
   ]
  },
  {
   "cell_type": "code",
   "execution_count": 7,
   "metadata": {},
   "outputs": [
    {
     "data": {
      "text/plain": [
       "[1, 0, 1, 0, None, None, None, None, 0, 1]"
      ]
     },
     "execution_count": 7,
     "metadata": {},
     "output_type": "execute_result"
    }
   ],
   "source": [
    "# Rewrite this same function using a list comprehension.\n",
    "def myfunc(n):\n",
    "    lc_new = [\n",
    "        1 if num == 0\n",
    "        else (0 if num==1 else None)\n",
    "        for num in n\n",
    "    ]\n",
    "    return lc_new\n",
    "\n",
    "myfunc([0, 1, 0, 1, 2, 3, 5, 2, 1, 0])"
   ]
  },
  {
   "cell_type": "code",
   "execution_count": 8,
   "metadata": {},
   "outputs": [
    {
     "name": "stdout",
     "output_type": "stream",
     "text": [
      "[(0.0, 0), (1.0, 1), (7.0710678118654755, 2500), (8.6602540378443873, 5625)]\n"
     ]
    }
   ],
   "source": [
    "# Write a function that receives a list and gets the square and square root of all non-negative numbers in the list.\n",
    "# Use a for loop.\n",
    "\n",
    "def myfunc(n):\n",
    "    new_n = []\n",
    "    for num in n:\n",
    "        if num>=0:\n",
    "            new_n.append((np.sqrt(num), num**2))\n",
    "\n",
    "    print(new_n)\n",
    "    \n",
    "\n",
    "myfunc([0, 1, 50, -23, -1, 75, -3])\n"
   ]
  },
  {
   "cell_type": "code",
   "execution_count": 10,
   "metadata": {},
   "outputs": [
    {
     "data": {
      "text/plain": [
       "[(0.0, 0), (1.0, 1), (7.0710678118654755, 2500), (8.6602540378443873, 5625)]"
      ]
     },
     "execution_count": 10,
     "metadata": {},
     "output_type": "execute_result"
    }
   ],
   "source": [
    "# Rewrite this same function using a list comprehension.\n",
    "\n",
    "def myfunc(n):\n",
    "    return [(np.sqrt(num), num**2) for num in n if num >= 0]\n",
    "\n",
    "myfunc([0, 1, 50, -23, -1, 75, -3])"
   ]
  },
  {
   "cell_type": "code",
   "execution_count": 21,
   "metadata": {},
   "outputs": [
    {
     "data": {
      "text/plain": [
       "[32.0, 50.0, 68.18, 94.1]"
      ]
     },
     "execution_count": 21,
     "metadata": {},
     "output_type": "execute_result"
    }
   ],
   "source": [
    "# Write a function that receives a list of Celsius temperatures and converts to Fahrenheit.\n",
    "# The formula is (9/5)*temp + 32)\n",
    "\n",
    "def myfunc(celsius):\n",
    "    return [((9/5)*temp + 32) for temp in celsius ]\n",
    "\n",
    "myfunc([0,10,20.1,34.5])\n"
   ]
  },
  {
   "cell_type": "code",
   "execution_count": null,
   "metadata": {},
   "outputs": [],
   "source": []
  }
 ],
 "metadata": {
  "kernelspec": {
   "display_name": "Python 3",
   "language": "python",
   "name": "python3"
  },
  "language_info": {
   "codemirror_mode": {
    "name": "ipython",
    "version": 3
   },
   "file_extension": ".py",
   "mimetype": "text/x-python",
   "name": "python",
   "nbconvert_exporter": "python",
   "pygments_lexer": "ipython3",
   "version": "3.6.6"
  }
 },
 "nbformat": 4,
 "nbformat_minor": 2
}
