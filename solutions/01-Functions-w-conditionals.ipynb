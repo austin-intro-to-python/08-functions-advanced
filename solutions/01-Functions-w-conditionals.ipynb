{
 "cells": [
  {
   "cell_type": "markdown",
   "metadata": {},
   "source": [
    "# 1. Functions with Conditionals"
   ]
  },
  {
   "cell_type": "code",
   "execution_count": 1,
   "metadata": {},
   "outputs": [
    {
     "name": "stdout",
     "output_type": "stream",
     "text": [
      "Where are you?\n"
     ]
    }
   ],
   "source": [
    "# Write a function that receives the name of any location. Use if, else, and elif.\n",
    "# If that location is a bank, a barber shop, or an auto shop, the function prints a welcome message.\n",
    "# If not, then it prints a question.\n",
    "\n",
    "def myfunc(loc):\n",
    "    if loc == 'Auto Shop':\n",
    "        print('Welcome to the Auto Shop!')\n",
    "    elif loc == 'Bank':\n",
    "        print('Welcome to the Bank!')\n",
    "    else:\n",
    "        print('Where are you?')\n",
    "        \n",
    "myfunc('Grocery Store')"
   ]
  },
  {
   "cell_type": "code",
   "execution_count": 4,
   "metadata": {},
   "outputs": [
    {
     "name": "stdout",
     "output_type": "stream",
     "text": [
      "Welcome to the Diner!\n"
     ]
    }
   ],
   "source": [
    "# Let's rewrite this same function with fewer lines of code to be more efficient.\n",
    "# Provide a list of 4 acceptable locations, and use string formatting to efficiently display the welcome message.\n",
    "\n",
    "def myfunc(loc):\n",
    "    acceptable_locations=['Auto Shop', 'Bank', 'Barber Shop', 'Diner']\n",
    "    if loc in acceptable_locations:\n",
    "        print(f'Welcome to the {loc}!')\n",
    "    else:\n",
    "        print('Where are you?')\n",
    "        \n",
    "myfunc('Diner')"
   ]
  },
  {
   "cell_type": "code",
   "execution_count": 6,
   "metadata": {},
   "outputs": [
    {
     "name": "stdout",
     "output_type": "stream",
     "text": [
      "Welcome Sammy!\n"
     ]
    }
   ],
   "source": [
    "# Write a function that accepts a person. If that person is in a list of friends, print a welcome statement.\n",
    "# If not, ask for the name.\n",
    "\n",
    "def myfunc(person):\n",
    "    friends=['Sammy', 'George','Akil','Nevaeh','Kofi']\n",
    "    if person in friends:\n",
    "        print(f'Welcome {person}!')\n",
    "    else:\n",
    "        print(\"Welcome, what's your name?\")\n",
    "myfunc('Sammy')"
   ]
  },
  {
   "cell_type": "code",
   "execution_count": 11,
   "metadata": {},
   "outputs": [
    {
     "name": "stdout",
     "output_type": "stream",
     "text": [
      "Please provide a person's name.\n"
     ]
    }
   ],
   "source": [
    "# Rewrite this same function with error handling.\n",
    "# The expected input must be a string that starts with a capital letter.\n",
    "\n",
    "def myfunc(person):\n",
    "    friends=['Sammy', 'George','Akil','Nevaeh','Kofi']\n",
    "    \n",
    "    if type(person)==str and person[0].isupper():\n",
    "        if person in friends:\n",
    "            print(f'Welcome {person}!')\n",
    "        else:\n",
    "            print(\"Welcome, what's your name?\")\n",
    "    else:\n",
    "        print(\"Please provide a person's name.\")\n",
    "        \n",
    "myfunc('akil')"
   ]
  },
  {
   "cell_type": "code",
   "execution_count": null,
   "metadata": {},
   "outputs": [],
   "source": []
  }
 ],
 "metadata": {
  "kernelspec": {
   "display_name": "Python 3",
   "language": "python",
   "name": "python3"
  },
  "language_info": {
   "codemirror_mode": {
    "name": "ipython",
    "version": 3
   },
   "file_extension": ".py",
   "mimetype": "text/x-python",
   "name": "python",
   "nbconvert_exporter": "python",
   "pygments_lexer": "ipython3",
   "version": "3.6.6"
  }
 },
 "nbformat": 4,
 "nbformat_minor": 2
}
