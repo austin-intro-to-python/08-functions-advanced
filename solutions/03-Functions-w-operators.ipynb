{
 "cells": [
  {
   "cell_type": "markdown",
   "metadata": {},
   "source": [
    "# 3. Functions with operators"
   ]
  },
  {
   "cell_type": "code",
   "execution_count": 2,
   "metadata": {},
   "outputs": [
    {
     "name": "stdout",
     "output_type": "stream",
     "text": [
      "[2, 3, 4, 5, 6]\n"
     ]
    }
   ],
   "source": [
    "# Write a function that receives any two numbers and prints out the range of numbers between them.\n",
    "\n",
    "def myfunc(a,b):\n",
    "    print(list(range(a,b)))\n",
    "    \n",
    "myfunc(2,7)"
   ]
  },
  {
   "cell_type": "code",
   "execution_count": 6,
   "metadata": {},
   "outputs": [
    {
     "name": "stdout",
     "output_type": "stream",
     "text": [
      "[2, 4, 6, 8, 10, 12, 14, 16]\n"
     ]
    }
   ],
   "source": [
    "# Write the same function, but include error handling and a step size of two.\n",
    "\n",
    "def myfunc(a,b):\n",
    "    if type(a)==int and type(b)==int:\n",
    "        print(list(range(a,b,2)))\n",
    "    else:\n",
    "        print('please provide numbers.')\n",
    "    \n",
    "myfunc(2,17)"
   ]
  },
  {
   "cell_type": "code",
   "execution_count": 7,
   "metadata": {},
   "outputs": [
    {
     "name": "stdout",
     "output_type": "stream",
     "text": [
      "At index 0 the letter is a\n",
      "At index 1 the letter is b\n",
      "At index 2 the letter is c\n",
      "At index 3 the letter is d\n",
      "At index 4 the letter is e\n"
     ]
    }
   ],
   "source": [
    "# Write a function that receives a string and uses a for loop to print the index of every letter in that string.\n",
    "\n",
    "def myfunc(string):\n",
    "    index_count = 0\n",
    "    for letter in string:\n",
    "        print(\"At index {} the letter is {}\".format(index_count,letter))\n",
    "        index_count += 1\n",
    "        \n",
    "myfunc('abcde')"
   ]
  },
  {
   "cell_type": "code",
   "execution_count": null,
   "metadata": {},
   "outputs": [],
   "source": [
    "list(enumerate('this is a string!'))"
   ]
  },
  {
   "cell_type": "code",
   "execution_count": 8,
   "metadata": {},
   "outputs": [
    {
     "name": "stdout",
     "output_type": "stream",
     "text": [
      "At index 0 the letter is a\n",
      "At index 1 the letter is b\n",
      "At index 2 the letter is c\n",
      "At index 3 the letter is d\n",
      "At index 4 the letter is e\n"
     ]
    }
   ],
   "source": [
    "# Rewrite this same function using 'enumerate'.\n",
    "def myfunc(string):\n",
    "    for i,letter in enumerate(string):\n",
    "        print(\"At index {} the letter is {}\".format(i,letter))\n",
    "myfunc('abcde')"
   ]
  },
  {
   "cell_type": "code",
   "execution_count": 11,
   "metadata": {},
   "outputs": [
    {
     "data": {
      "text/plain": [
       "[(0, 'a'), (1, 'b'), (2, 'c'), (3, 'd'), (4, 'e')]"
      ]
     },
     "execution_count": 11,
     "metadata": {},
     "output_type": "execute_result"
    }
   ],
   "source": [
    "# Write a function that receives a string and returns a list of tuples showing each string item with its index.\n",
    "def myfunc(string):\n",
    "    return list(enumerate(string))\n",
    "myfunc('abcde')"
   ]
  },
  {
   "cell_type": "code",
   "execution_count": 1,
   "metadata": {},
   "outputs": [
    {
     "data": {
      "text/plain": [
       "[(1, 'a'), (2, 'b'), (3, 'c'), (4, 'd'), (5, 'e')]"
      ]
     },
     "execution_count": 1,
     "metadata": {},
     "output_type": "execute_result"
    }
   ],
   "source": [
    "# Write a function that receives any two lists and joins them into a list of tuples.\n",
    "def myfunc(mylist1,mylist2):\n",
    "    return list(zip(mylist1,mylist2))\n",
    "\n",
    "\n",
    "newlist1 = [1,2,3,4,5]\n",
    "newlist2 = ['a','b','c','d','e']\n",
    "myfunc(newlist1,newlist2)"
   ]
  },
  {
   "cell_type": "code",
   "execution_count": 2,
   "metadata": {},
   "outputs": [
    {
     "data": {
      "text/plain": [
       "[('blue', 3), ('green', 5), ('yellow', 6), ('raccoon', 7)]"
      ]
     },
     "execution_count": 2,
     "metadata": {},
     "output_type": "execute_result"
    }
   ],
   "source": [
    "# again\n",
    "\n",
    "list_a = ['blue','green','yellow','raccoon','panda', 'bear']\n",
    "list_b = [3,5,6,7]\n",
    "myfunc(list_a, list_b)"
   ]
  },
  {
   "cell_type": "code",
   "execution_count": 14,
   "metadata": {},
   "outputs": [
    {
     "name": "stdout",
     "output_type": "stream",
     "text": [
      "The lowest value is 10 and the highest value is 100\n"
     ]
    }
   ],
   "source": [
    "# Write a function that receives any list and prints a sentence with the minimum and maximum value of that list.\n",
    "\n",
    "def myfunc(list1):\n",
    "    print(f'The lowest value is {min(list1)} and the highest value is {max(list1)}')\n",
    "    \n",
    "mylist = [35,10,20,30,40,100,74]\n",
    "myfunc(mylist)"
   ]
  },
  {
   "cell_type": "code",
   "execution_count": null,
   "metadata": {},
   "outputs": [],
   "source": []
  }
 ],
 "metadata": {
  "kernelspec": {
   "display_name": "Python 3 (ipykernel)",
   "language": "python",
   "name": "python3"
  },
  "language_info": {
   "codemirror_mode": {
    "name": "ipython",
    "version": 3
   },
   "file_extension": ".py",
   "mimetype": "text/x-python",
   "name": "python",
   "nbconvert_exporter": "python",
   "pygments_lexer": "ipython3",
   "version": "3.9.7"
  }
 },
 "nbformat": 4,
 "nbformat_minor": 2
}
