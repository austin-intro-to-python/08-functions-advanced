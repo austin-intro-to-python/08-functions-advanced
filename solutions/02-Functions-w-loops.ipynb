{
 "cells": [
  {
   "cell_type": "markdown",
   "metadata": {},
   "source": [
    "# 2. Functions with loops"
   ]
  },
  {
   "cell_type": "markdown",
   "metadata": {},
   "source": [
    "## for loops"
   ]
  },
  {
   "cell_type": "code",
   "execution_count": 3,
   "metadata": {},
   "outputs": [
    {
     "name": "stdout",
     "output_type": "stream",
     "text": [
      "1\n",
      "2\n",
      "4\n",
      "one\n",
      "6\n",
      "7\n",
      "2\n",
      "4\n",
      "three\n"
     ]
    }
   ],
   "source": [
    "# Write a function that receives a list and prints all its elements.\n",
    "# Include error handling to confirm that the expected input is indeed a list.\n",
    "\n",
    "def myfunc(list1):\n",
    "    if type(list1)==list:\n",
    "        for num in list1:\n",
    "            print(num)\n",
    "    else:\n",
    "        print('please provide a list')\n",
    "        \n",
    "myfunc([1,2,4,'one',6,7,2,4,'three'])"
   ]
  },
  {
   "cell_type": "code",
   "execution_count": 14,
   "metadata": {},
   "outputs": [
    {
     "name": "stdout",
     "output_type": "stream",
     "text": [
      "2\n",
      "4\n",
      "6\n",
      "8\n",
      "2\n"
     ]
    }
   ],
   "source": [
    "# Write a function that receives a list of integers and prints only the even numbers from that list.\n",
    "\n",
    "def myfunc(list1):\n",
    "    for num in list1:\n",
    "        if num % 2 == 0:\n",
    "            print(num)\n",
    "\n",
    "myfunc([1,2,4,6,8,9,2])"
   ]
  },
  {
   "cell_type": "code",
   "execution_count": 15,
   "metadata": {},
   "outputs": [
    {
     "name": "stdout",
     "output_type": "stream",
     "text": [
      "32\n"
     ]
    }
   ],
   "source": [
    "# Write a function that sums a list of numbers.\n",
    "def myfunc(list1):\n",
    "    list_sum = 0 \n",
    "    for num in list1:\n",
    "        list_sum += num\n",
    "    print(list_sum)\n",
    "\n",
    "myfunc([1,2,4,6,8,9,2])"
   ]
  },
  {
   "cell_type": "code",
   "execution_count": 17,
   "metadata": {},
   "outputs": [
    {
     "data": {
      "text/plain": [
       "32"
      ]
     },
     "execution_count": 17,
     "metadata": {},
     "output_type": "execute_result"
    }
   ],
   "source": [
    "# You can also just use the built-in function 'sum' to do this.\n",
    "def myfunc(list1):\n",
    "    return sum(list1)\n",
    "\n",
    "myfunc([1,2,4,6,8,9,2])"
   ]
  },
  {
   "cell_type": "code",
   "execution_count": 22,
   "metadata": {},
   "outputs": [
    {
     "name": "stdout",
     "output_type": "stream",
     "text": [
      "red\n",
      "3\n",
      "blue\n"
     ]
    }
   ],
   "source": [
    "# Write a function that receives 6 items, converts them into 3 tuples, and then prints the first of each pair.\n",
    "\n",
    "def myfunc(a,b,c,d,e,f):\n",
    "    list2 = [(a,b),(c,d),(e,f)]\n",
    "    for (t1,t2) in list2:\n",
    "        print(t1)\n",
    "\n",
    "myfunc('red',2,3,'yellow','blue',7)"
   ]
  },
  {
   "cell_type": "markdown",
   "metadata": {},
   "source": [
    "## While loops"
   ]
  },
  {
   "cell_type": "code",
   "execution_count": 24,
   "metadata": {},
   "outputs": [
    {
     "name": "stdout",
     "output_type": "stream",
     "text": [
      "10 is still less than 20, adding 1 to 10\n",
      "11 is still less than 20, adding 1 to 11\n",
      "12 is still less than 20, adding 1 to 12\n",
      "13 is still less than 20, adding 1 to 13\n",
      "14 is still less than 20, adding 1 to 14\n",
      "15 is still less than 20, adding 1 to 15\n",
      "16 is still less than 20, adding 1 to 16\n",
      "17 is still less than 20, adding 1 to 17\n",
      "18 is still less than 20, adding 1 to 18\n",
      "19 is still less than 20, adding 1 to 19\n"
     ]
    }
   ],
   "source": [
    "# Write a function that receives any two number A and B.\n",
    "# For every number between the interval of A and B, print a statement.\n",
    "\n",
    "def myfunc(a,b):\n",
    "    while a < b:\n",
    "        print(f'{a} is still less than {b}, adding 1 to {a}')\n",
    "        a+=1\n",
    "myfunc(10,20)"
   ]
  },
  {
   "cell_type": "code",
   "execution_count": null,
   "metadata": {},
   "outputs": [],
   "source": []
  }
 ],
 "metadata": {
  "kernelspec": {
   "display_name": "Python 3",
   "language": "python",
   "name": "python3"
  },
  "language_info": {
   "codemirror_mode": {
    "name": "ipython",
    "version": 3
   },
   "file_extension": ".py",
   "mimetype": "text/x-python",
   "name": "python",
   "nbconvert_exporter": "python",
   "pygments_lexer": "ipython3",
   "version": "3.6.6"
  }
 },
 "nbformat": 4,
 "nbformat_minor": 2
}
